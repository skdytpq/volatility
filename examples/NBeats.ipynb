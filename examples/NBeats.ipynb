{
 "cells": [
  {
   "cell_type": "markdown",
   "metadata": {},
   "source": [
    "NBEATS EXAMPLE\n",
    "\n",
    "https://subhayo.wordpress.com/2019/05/15/time-series-analysis-of-monthly-milk-production/\n",
    "\n",
    "It's a toy example to show how to do time series forecasting using N-Beats."
   ]
  },
  {
   "cell_type": "code",
   "execution_count": 3,
   "metadata": {},
   "outputs": [],
   "source": [
    "%matplotlib inline\n",
    "import warnings\n",
    "import sys\n",
    "sys.path.append(\"../\")\n",
    "import matplotlib.pyplot as plt\n",
    "import numpy as np\n",
    "import pandas as pd\n",
    "import torch\n",
    "from torch import optim\n",
    "from torch.nn import functional as F\n",
    "\n",
    "from nbeats_pytorch.model import NBeatsNet\n",
    "from trainer_pytorch import save\n",
    "\n",
    "warnings.filterwarnings(action='ignore', message='Setting attributes')"
   ]
  },
  {
   "cell_type": "code",
   "execution_count": 19,
   "metadata": {},
   "outputs": [],
   "source": [
    "import pandas as pd"
   ]
  },
  {
   "cell_type": "code",
   "execution_count": 20,
   "metadata": {},
   "outputs": [],
   "source": [
    "milk = pd.read_csv('data/milk.csv', index_col=0, parse_dates=True)"
   ]
  },
  {
   "cell_type": "code",
   "execution_count": 21,
   "metadata": {},
   "outputs": [
    {
     "data": {
      "text/html": [
       "<div>\n",
       "<style scoped>\n",
       "    .dataframe tbody tr th:only-of-type {\n",
       "        vertical-align: middle;\n",
       "    }\n",
       "\n",
       "    .dataframe tbody tr th {\n",
       "        vertical-align: top;\n",
       "    }\n",
       "\n",
       "    .dataframe thead th {\n",
       "        text-align: right;\n",
       "    }\n",
       "</style>\n",
       "<table border=\"1\" class=\"dataframe\">\n",
       "  <thead>\n",
       "    <tr style=\"text-align: right;\">\n",
       "      <th></th>\n",
       "      <th>milk_production_pounds</th>\n",
       "    </tr>\n",
       "    <tr>\n",
       "      <th>month</th>\n",
       "      <th></th>\n",
       "    </tr>\n",
       "  </thead>\n",
       "  <tbody>\n",
       "    <tr>\n",
       "      <th>1962-01-01</th>\n",
       "      <td>589</td>\n",
       "    </tr>\n",
       "    <tr>\n",
       "      <th>1962-02-01</th>\n",
       "      <td>561</td>\n",
       "    </tr>\n",
       "    <tr>\n",
       "      <th>1962-03-01</th>\n",
       "      <td>640</td>\n",
       "    </tr>\n",
       "    <tr>\n",
       "      <th>1962-04-01</th>\n",
       "      <td>656</td>\n",
       "    </tr>\n",
       "    <tr>\n",
       "      <th>1962-05-01</th>\n",
       "      <td>727</td>\n",
       "    </tr>\n",
       "    <tr>\n",
       "      <th>...</th>\n",
       "      <td>...</td>\n",
       "    </tr>\n",
       "    <tr>\n",
       "      <th>1975-08-01</th>\n",
       "      <td>858</td>\n",
       "    </tr>\n",
       "    <tr>\n",
       "      <th>1975-09-01</th>\n",
       "      <td>817</td>\n",
       "    </tr>\n",
       "    <tr>\n",
       "      <th>1975-10-01</th>\n",
       "      <td>827</td>\n",
       "    </tr>\n",
       "    <tr>\n",
       "      <th>1975-11-01</th>\n",
       "      <td>797</td>\n",
       "    </tr>\n",
       "    <tr>\n",
       "      <th>1975-12-01</th>\n",
       "      <td>843</td>\n",
       "    </tr>\n",
       "  </tbody>\n",
       "</table>\n",
       "<p>168 rows × 1 columns</p>\n",
       "</div>"
      ],
      "text/plain": [
       "            milk_production_pounds\n",
       "month                             \n",
       "1962-01-01                     589\n",
       "1962-02-01                     561\n",
       "1962-03-01                     640\n",
       "1962-04-01                     656\n",
       "1962-05-01                     727\n",
       "...                            ...\n",
       "1975-08-01                     858\n",
       "1975-09-01                     817\n",
       "1975-10-01                     827\n",
       "1975-11-01                     797\n",
       "1975-12-01                     843\n",
       "\n",
       "[168 rows x 1 columns]"
      ]
     },
     "execution_count": 21,
     "metadata": {},
     "output_type": "execute_result"
    }
   ],
   "source": [
    "milk"
   ]
  },
  {
   "cell_type": "code",
   "execution_count": 24,
   "metadata": {},
   "outputs": [],
   "source": [
    "# plot utils.\n",
    "def plot_scatter(*args, **kwargs):\n",
    "    plt.plot(*args, **kwargs)\n",
    "    plt.scatter(*args, **kwargs)\n",
    "\n",
    "\n",
    "# simple batcher.\n",
    "def data_generator(x, y, size):\n",
    "    assert len(x) == len(y)\n",
    "    batches = []\n",
    "    for ii in range(0, len(x), size):\n",
    "        batches.append((x[ii:ii + size], y[ii:ii + size]))\n",
    "    for batch in batches:\n",
    "        yield batch"
   ]
  },
  {
   "cell_type": "code",
   "execution_count": 10,
   "metadata": {},
   "outputs": [
    {
     "name": "stdout",
     "output_type": "stream",
     "text": [
      "            milk_production_pounds\n",
      "month                             \n",
      "1962-01-01                     589\n",
      "1962-02-01                     561\n",
      "1962-03-01                     640\n",
      "1962-04-01                     656\n",
      "1962-05-01                     727\n"
     ]
    }
   ],
   "source": [
    "\n",
    "forecast_length = 1\n",
    "backcast_length = 23 * forecast_length\n",
    "batch_size = 10  # greater than 4 for viz\n",
    "\n",
    "milk = pd.read_csv('data/milk.csv', index_col=0, parse_dates=True)\n",
    "print(milk.head())\n",
    "milk = milk.values.flatten()  # just keep np array here for simplicity.\n",
    "\n",
    "# data backcast/forecast generation.\n",
    "x, y = [], []\n",
    "for epoch in range(backcast_length, len(milk) - forecast_length):\n",
    "    x.append(milk[epoch - backcast_length:epoch])\n",
    "    y.append(milk[epoch:epoch + forecast_length])\n",
    "x = np.array(x)\n",
    "y = np.array(y)\n",
    "\n",
    "# split train/test.\n",
    "c = int(len(x) * 0.8)\n",
    "x_train, y_train = x[:c], y[:c]\n",
    "x_test, y_test = x[c:], y[c:]"
   ]
  },
  {
   "cell_type": "code",
   "execution_count": 13,
   "metadata": {},
   "outputs": [
    {
     "data": {
      "text/plain": [
       "(115, 23)"
      ]
     },
     "execution_count": 13,
     "metadata": {},
     "output_type": "execute_result"
    }
   ],
   "source": [
    "x_train.shape"
   ]
  },
  {
   "cell_type": "code",
   "execution_count": 12,
   "metadata": {},
   "outputs": [
    {
     "data": {
      "text/plain": [
       "(115, 1)"
      ]
     },
     "execution_count": 12,
     "metadata": {},
     "output_type": "execute_result"
    }
   ],
   "source": [
    "y_train.shape"
   ]
  },
  {
   "cell_type": "code",
   "execution_count": 29,
   "metadata": {},
   "outputs": [
    {
     "name": "stdout",
     "output_type": "stream",
     "text": [
      "            milk_production_pounds\n",
      "month                             \n",
      "1962-01-01                     589\n",
      "1962-02-01                     561\n",
      "1962-03-01                     640\n",
      "1962-04-01                     656\n",
      "1962-05-01                     727\n",
      "| N-Beats\n",
      "| --  Stack Generic (#0) (share_weights_in_stack=False)\n",
      "     | -- GenericBlock(units=128, thetas_dim=4, backcast_length=1, forecast_length=1, share_thetas=False) at @6299859552\n",
      "     | -- GenericBlock(units=128, thetas_dim=4, backcast_length=1, forecast_length=1, share_thetas=False) at @6300730944\n",
      "     | -- GenericBlock(units=128, thetas_dim=4, backcast_length=1, forecast_length=1, share_thetas=False) at @6300730320\n",
      "| --  Stack Generic (#1) (share_weights_in_stack=False)\n",
      "     | -- GenericBlock(units=128, thetas_dim=8, backcast_length=1, forecast_length=1, share_thetas=False) at @6299858784\n",
      "     | -- GenericBlock(units=128, thetas_dim=8, backcast_length=1, forecast_length=1, share_thetas=False) at @6300730848\n",
      "     | -- GenericBlock(units=128, thetas_dim=8, backcast_length=1, forecast_length=1, share_thetas=False) at @6295662352\n"
     ]
    },
    {
     "data": {
      "image/png": "[encoded data removed]",
      "text/plain": [
       "<Figure size 640x480 with 4 Axes>"
      ]
     },
     "metadata": {},
     "output_type": "display_data"
    },
    {
     "name": "stdout",
     "output_type": "stream",
     "text": [
      "epoch = 0000, grad_step = 000014, tr_loss (epoch) = 1107.876, te_loss (epoch) = 937.653\n"
     ]
    },
    {
     "ename": "KeyboardInterrupt",
     "evalue": "",
     "output_type": "error",
     "traceback": [
      "\u001b[0;31m---------------------------------------------------------------------------\u001b[0m",
      "\u001b[0;31mKeyboardInterrupt\u001b[0m                         Traceback (most recent call last)",
      "Input \u001b[0;32mIn [29]\u001b[0m, in \u001b[0;36m<cell line: 80>\u001b[0;34m()\u001b[0m\n\u001b[1;32m     72\u001b[0m             \u001b[38;5;28mprint\u001b[39m(\u001b[38;5;124mf\u001b[39m\u001b[38;5;124m'\u001b[39m\u001b[38;5;124mepoch = \u001b[39m\u001b[38;5;132;01m{\u001b[39;00m\u001b[38;5;28mstr\u001b[39m(epoch)\u001b[38;5;241m.\u001b[39mzfill(\u001b[38;5;241m4\u001b[39m)\u001b[38;5;132;01m}\u001b[39;00m\u001b[38;5;124m, \u001b[39m\u001b[38;5;124m'\u001b[39m\n\u001b[1;32m     73\u001b[0m                   \u001b[38;5;124mf\u001b[39m\u001b[38;5;124m'\u001b[39m\u001b[38;5;124mgrad_step = \u001b[39m\u001b[38;5;132;01m{\u001b[39;00m\u001b[38;5;28mstr\u001b[39m(grad_step)\u001b[38;5;241m.\u001b[39mzfill(\u001b[38;5;241m6\u001b[39m)\u001b[38;5;132;01m}\u001b[39;00m\u001b[38;5;124m, \u001b[39m\u001b[38;5;124m'\u001b[39m\n\u001b[1;32m     74\u001b[0m                   \u001b[38;5;124mf\u001b[39m\u001b[38;5;124m'\u001b[39m\u001b[38;5;124mtr_loss (epoch) = \u001b[39m\u001b[38;5;132;01m{\u001b[39;00m\u001b[38;5;241m1000\u001b[39m \u001b[38;5;241m*\u001b[39m train_loss\u001b[38;5;132;01m:\u001b[39;00m\u001b[38;5;124m.3f\u001b[39m\u001b[38;5;132;01m}\u001b[39;00m\u001b[38;5;124m, \u001b[39m\u001b[38;5;124m'\u001b[39m\n\u001b[1;32m     75\u001b[0m                   \u001b[38;5;124mf\u001b[39m\u001b[38;5;124m'\u001b[39m\u001b[38;5;124mte_loss (epoch) = \u001b[39m\u001b[38;5;132;01m{\u001b[39;00m\u001b[38;5;241m1000\u001b[39m \u001b[38;5;241m*\u001b[39m test_loss\u001b[38;5;132;01m:\u001b[39;00m\u001b[38;5;124m.3f\u001b[39m\u001b[38;5;132;01m}\u001b[39;00m\u001b[38;5;124m'\u001b[39m)\n\u001b[1;32m     80\u001b[0m \u001b[38;5;28;01mif\u001b[39;00m \u001b[38;5;18m__name__\u001b[39m \u001b[38;5;241m==\u001b[39m \u001b[38;5;124m'\u001b[39m\u001b[38;5;124m__main__\u001b[39m\u001b[38;5;124m'\u001b[39m:\n\u001b[0;32m---> 81\u001b[0m     \u001b[43mmain\u001b[49m\u001b[43m(\u001b[49m\u001b[43m)\u001b[49m\n",
      "Input \u001b[0;32mIn [29]\u001b[0m, in \u001b[0;36mmain\u001b[0;34m()\u001b[0m\n\u001b[1;32m     47\u001b[0m     loss \u001b[38;5;241m=\u001b[39m F\u001b[38;5;241m.\u001b[39mmse_loss(forecast, torch\u001b[38;5;241m.\u001b[39mtensor(y_train_batch, dtype\u001b[38;5;241m=\u001b[39mtorch\u001b[38;5;241m.\u001b[39mfloat)\u001b[38;5;241m.\u001b[39mto(net\u001b[38;5;241m.\u001b[39mdevice))\n\u001b[1;32m     48\u001b[0m     train_loss\u001b[38;5;241m.\u001b[39mappend(loss\u001b[38;5;241m.\u001b[39mitem())\n\u001b[0;32m---> 49\u001b[0m     \u001b[43mloss\u001b[49m\u001b[38;5;241;43m.\u001b[39;49m\u001b[43mbackward\u001b[49m\u001b[43m(\u001b[49m\u001b[43m)\u001b[49m\n\u001b[1;32m     50\u001b[0m     optimiser\u001b[38;5;241m.\u001b[39mstep()\n\u001b[1;32m     51\u001b[0m train_loss \u001b[38;5;241m=\u001b[39m np\u001b[38;5;241m.\u001b[39mmean(train_loss)\n",
      "File \u001b[0;32m~/opt/anaconda3/lib/python3.9/site-packages/torch/_tensor.py:396\u001b[0m, in \u001b[0;36mTensor.backward\u001b[0;34m(self, gradient, retain_graph, create_graph, inputs)\u001b[0m\n\u001b[1;32m    387\u001b[0m \u001b[38;5;28;01mif\u001b[39;00m has_torch_function_unary(\u001b[38;5;28mself\u001b[39m):\n\u001b[1;32m    388\u001b[0m     \u001b[38;5;28;01mreturn\u001b[39;00m handle_torch_function(\n\u001b[1;32m    389\u001b[0m         Tensor\u001b[38;5;241m.\u001b[39mbackward,\n\u001b[1;32m    390\u001b[0m         (\u001b[38;5;28mself\u001b[39m,),\n\u001b[0;32m   (...)\u001b[0m\n\u001b[1;32m    394\u001b[0m         create_graph\u001b[38;5;241m=\u001b[39mcreate_graph,\n\u001b[1;32m    395\u001b[0m         inputs\u001b[38;5;241m=\u001b[39minputs)\n\u001b[0;32m--> 396\u001b[0m \u001b[43mtorch\u001b[49m\u001b[38;5;241;43m.\u001b[39;49m\u001b[43mautograd\u001b[49m\u001b[38;5;241;43m.\u001b[39;49m\u001b[43mbackward\u001b[49m\u001b[43m(\u001b[49m\u001b[38;5;28;43mself\u001b[39;49m\u001b[43m,\u001b[49m\u001b[43m \u001b[49m\u001b[43mgradient\u001b[49m\u001b[43m,\u001b[49m\u001b[43m \u001b[49m\u001b[43mretain_graph\u001b[49m\u001b[43m,\u001b[49m\u001b[43m \u001b[49m\u001b[43mcreate_graph\u001b[49m\u001b[43m,\u001b[49m\u001b[43m \u001b[49m\u001b[43minputs\u001b[49m\u001b[38;5;241;43m=\u001b[39;49m\u001b[43minputs\u001b[49m\u001b[43m)\u001b[49m\n",
      "File \u001b[0;32m~/opt/anaconda3/lib/python3.9/site-packages/torch/autograd/__init__.py:173\u001b[0m, in \u001b[0;36mbackward\u001b[0;34m(tensors, grad_tensors, retain_graph, create_graph, grad_variables, inputs)\u001b[0m\n\u001b[1;32m    168\u001b[0m     retain_graph \u001b[38;5;241m=\u001b[39m create_graph\n\u001b[1;32m    170\u001b[0m \u001b[38;5;66;03m# The reason we repeat same the comment below is that\u001b[39;00m\n\u001b[1;32m    171\u001b[0m \u001b[38;5;66;03m# some Python versions print out the first line of a multi-line function\u001b[39;00m\n\u001b[1;32m    172\u001b[0m \u001b[38;5;66;03m# calls in the traceback and some print out the last line\u001b[39;00m\n\u001b[0;32m--> 173\u001b[0m \u001b[43mVariable\u001b[49m\u001b[38;5;241;43m.\u001b[39;49m\u001b[43m_execution_engine\u001b[49m\u001b[38;5;241;43m.\u001b[39;49m\u001b[43mrun_backward\u001b[49m\u001b[43m(\u001b[49m\u001b[43m  \u001b[49m\u001b[38;5;66;43;03m# Calls into the C++ engine to run the backward pass\u001b[39;49;00m\n\u001b[1;32m    174\u001b[0m \u001b[43m    \u001b[49m\u001b[43mtensors\u001b[49m\u001b[43m,\u001b[49m\u001b[43m \u001b[49m\u001b[43mgrad_tensors_\u001b[49m\u001b[43m,\u001b[49m\u001b[43m \u001b[49m\u001b[43mretain_graph\u001b[49m\u001b[43m,\u001b[49m\u001b[43m \u001b[49m\u001b[43mcreate_graph\u001b[49m\u001b[43m,\u001b[49m\u001b[43m \u001b[49m\u001b[43minputs\u001b[49m\u001b[43m,\u001b[49m\n\u001b[1;32m    175\u001b[0m \u001b[43m    \u001b[49m\u001b[43mallow_unreachable\u001b[49m\u001b[38;5;241;43m=\u001b[39;49m\u001b[38;5;28;43;01mTrue\u001b[39;49;00m\u001b[43m,\u001b[49m\u001b[43m \u001b[49m\u001b[43maccumulate_grad\u001b[49m\u001b[38;5;241;43m=\u001b[39;49m\u001b[38;5;28;43;01mTrue\u001b[39;49;00m\u001b[43m)\u001b[49m\n",
      "\u001b[0;31mKeyboardInterrupt\u001b[0m: "
     ]
    }
   ],
   "source": [
    "\n",
    "from nbeats_pytorch.model import NBeatsNet\n",
    "def main():\n",
    "    forecast_length = 1\n",
    "    backcast_length = 1 * forecast_length\n",
    "    batch_size = 10  # greater than 4 for viz\n",
    "\n",
    "    milk = pd.read_csv('data/milk.csv', index_col=0, parse_dates=True)\n",
    "    print(milk.head())\n",
    "    milk = milk.values.flatten()  # just keep np array here for simplicity.\n",
    "\n",
    "    # data backcast/forecast generation.\n",
    "    x, y = [], []\n",
    "    for epoch in range(backcast_length, len(milk) - forecast_length):\n",
    "        x.append(milk[epoch - backcast_length:epoch])\n",
    "        y.append(milk[epoch:epoch + forecast_length])\n",
    "    x = np.array(x)\n",
    "    y = np.array(y)\n",
    "\n",
    "    # split train/test.\n",
    "    c = int(len(x) * 0.8)\n",
    "    x_train, y_train = x[:c], y[:c]\n",
    "    x_test, y_test = x[c:], y[c:]\n",
    "\n",
    "    # normalization.\n",
    "    norm_constant = np.max(x_train)\n",
    "    x_train, y_train = x_train / norm_constant, y_train / norm_constant\n",
    "    x_test, y_test = x_test / norm_constant, y_test / norm_constant\n",
    "\n",
    "    # model\n",
    "    net = NBeatsNet(\n",
    "        stack_types=(NBeatsNet.GENERIC_BLOCK, NBeatsNet.GENERIC_BLOCK),\n",
    "        forecast_length=forecast_length,\n",
    "        backcast_length=backcast_length,\n",
    "        hidden_layer_units=128,\n",
    "    )\n",
    "    optimiser = optim.Adam(lr=1e-4, params=net.parameters())\n",
    "\n",
    "    grad_step = 0\n",
    "    for epoch in range(1000):\n",
    "        # train.\n",
    "        net.train()\n",
    "        train_loss = []\n",
    "        for x_train_batch, y_train_batch in data_generator(x_train, y_train, batch_size):\n",
    "            grad_step += 1\n",
    "            optimiser.zero_grad()\n",
    "            _, forecast = net(torch.tensor(x_train_batch, dtype=torch.float).to(net.device))\n",
    "            loss = F.mse_loss(forecast, torch.tensor(y_train_batch, dtype=torch.float).to(net.device))\n",
    "            train_loss.append(loss.item())\n",
    "            loss.backward()\n",
    "            optimiser.step()\n",
    "        train_loss = np.mean(train_loss)\n",
    "\n",
    "        # test.\n",
    "        net.eval()\n",
    "        _, forecast = net(torch.tensor(x_test, dtype=torch.float))\n",
    "        test_loss = F.mse_loss(forecast, torch.tensor(y_test, dtype=torch.float)).item()\n",
    "        p = forecast.detach().numpy()\n",
    "        if epoch % 100 == 0:\n",
    "            subplots = [221, 222, 223, 224]\n",
    "            plt.figure(1)\n",
    "            for plot_id, i in enumerate(np.random.choice(range(len(x_test)), size=4, replace=False)):\n",
    "                ff, xx, yy = p[i] * norm_constant, x_test[i] * norm_constant, y_test[i] * norm_constant\n",
    "                plt.subplot(subplots[plot_id])\n",
    "                plt.grid()\n",
    "                plot_scatter(range(0, backcast_length), xx, color='b')\n",
    "                plot_scatter(range(backcast_length, backcast_length + forecast_length), yy, color='g')\n",
    "                plot_scatter(range(backcast_length, backcast_length + forecast_length), ff, color='r')\n",
    "            plt.show()\n",
    "\n",
    "            with torch.no_grad():\n",
    "                save(net, optimiser, grad_step)\n",
    "            print(f'epoch = {str(epoch).zfill(4)}, '\n",
    "                  f'grad_step = {str(grad_step).zfill(6)}, '\n",
    "                  f'tr_loss (epoch) = {1000 * train_loss:.3f}, '\n",
    "                  f'te_loss (epoch) = {1000 * test_loss:.3f}')\n",
    "\n",
    "\n",
    "\n",
    "\n",
    "if __name__ == '__main__':\n",
    "    main()"
   ]
  },
  {
   "cell_type": "code",
   "execution_count": 7,
   "metadata": {},
   "outputs": [
    {
     "name": "stderr",
     "output_type": "stream",
     "text": [
      "[*********************100%%**********************]  4 of 4 completed\n"
     ]
    }
   ],
   "source": [
    "symbols = (\"SPY\", \"QQQ\", \"BND\", \"VNQ\")\n",
    "data = yf.download(symbols)"
   ]
  },
  {
   "cell_type": "code",
   "execution_count": 9,
   "metadata": {},
   "outputs": [],
   "source": [
    "import numpy as np"
   ]
  },
  {
   "cell_type": "code",
   "execution_count": 2,
   "metadata": {},
   "outputs": [],
   "source": [
    "import mvarch"
   ]
  },
  {
   "cell_type": "code",
   "execution_count": 3,
   "metadata": {},
   "outputs": [],
   "source": [
    "model = mvarch.model_factory(distribution=\"studentt\", mean=\"zero\", univariate=\"arch\", constraint=\"none\")"
   ]
  },
  {
   "cell_type": "code",
   "execution_count": 10,
   "metadata": {},
   "outputs": [],
   "source": [
    "df = np.log1p(data.loc[:, (\"Adj Close\", symbols)].dropna().pct_change().dropna())"
   ]
  },
  {
   "cell_type": "code",
   "execution_count": 14,
   "metadata": {},
   "outputs": [],
   "source": [
    "fit_history = df.values"
   ]
  },
  {
   "cell_type": "code",
   "execution_count": 12,
   "metadata": {},
   "outputs": [],
   "source": [
    "model.fit(fit_history)"
   ]
  },
  {
   "cell_type": "code",
   "execution_count": 15,
   "metadata": {},
   "outputs": [
    {
     "name": "stdout",
     "output_type": "stream",
     "text": [
      "Next day volatility prediction (annualized):\n",
      "[0.10076555 0.1446409  0.05137579 0.17794609]\n",
      "\n",
      "Next day correlation prediction:\n",
      "[[1.         0.9171672  0.15659904 0.6057926 ]\n",
      " [0.9171672  1.         0.14140797 0.42485517]\n",
      " [0.15659904 0.14140797 0.9999999  0.3999394 ]\n",
      " [0.6057926  0.42485517 0.3999394  1.        ]]\n"
     ]
    }
   ],
   "source": [
    "\n",
    "TAIL_SIZE = 500\n",
    "evaluate_tail = df.index[-TAIL_SIZE:]\n",
    "evaluate_history = df.loc[evaluate_tail].values\n",
    "(\n",
    "    mv_scale_predicted,\n",
    "    uv_scale_predicted,\n",
    "    mean_predicted,\n",
    "    mv_scale_history,\n",
    "    uv_scale_history,\n",
    "    mean_history,\n",
    ") = model.predict(evaluate_history)\n",
    "\n",
    "# Show predicted next day volatilities and correlations:\n",
    "\n",
    "print(\n",
    "    f\"Next day volatility prediction (annualized):\\n\"\n",
    "    f\"{(np.sqrt(252.) * uv_scale_predicted * model.distribution.std_dev()).numpy()}\\n\"\n",
    ")\n",
    "\n",
    "print(\n",
    "    f\"Next day correlation prediction:\\n\"\n",
    "    f\"{(mv_scale_predicted @ mv_scale_predicted.T).numpy()}\"\n",
    ")"
   ]
  },
  {
   "cell_type": "code",
   "execution_count": 16,
   "metadata": {},
   "outputs": [
    {
     "data": {
      "text/html": [
       "<div>\n",
       "<style scoped>\n",
       "    .dataframe tbody tr th:only-of-type {\n",
       "        vertical-align: middle;\n",
       "    }\n",
       "\n",
       "    .dataframe tbody tr th {\n",
       "        vertical-align: top;\n",
       "    }\n",
       "\n",
       "    .dataframe thead tr th {\n",
       "        text-align: left;\n",
       "    }\n",
       "\n",
       "    .dataframe thead tr:last-of-type th {\n",
       "        text-align: right;\n",
       "    }\n",
       "</style>\n",
       "<table border=\"1\" class=\"dataframe\">\n",
       "  <thead>\n",
       "    <tr>\n",
       "      <th>Price</th>\n",
       "      <th colspan=\"4\" halign=\"left\">Adj Close</th>\n",
       "    </tr>\n",
       "    <tr>\n",
       "      <th>Ticker</th>\n",
       "      <th>SPY</th>\n",
       "      <th>QQQ</th>\n",
       "      <th>BND</th>\n",
       "      <th>VNQ</th>\n",
       "    </tr>\n",
       "    <tr>\n",
       "      <th>Date</th>\n",
       "      <th></th>\n",
       "      <th></th>\n",
       "      <th></th>\n",
       "      <th></th>\n",
       "    </tr>\n",
       "  </thead>\n",
       "  <tbody>\n",
       "    <tr>\n",
       "      <th>2007-04-11</th>\n",
       "      <td>-0.004088</td>\n",
       "      <td>-0.010575</td>\n",
       "      <td>-0.002663</td>\n",
       "      <td>-0.015010</td>\n",
       "    </tr>\n",
       "    <tr>\n",
       "      <th>2007-04-12</th>\n",
       "      <td>0.004434</td>\n",
       "      <td>0.007886</td>\n",
       "      <td>-0.000133</td>\n",
       "      <td>-0.006829</td>\n",
       "    </tr>\n",
       "    <tr>\n",
       "      <th>2007-04-13</th>\n",
       "      <td>0.004552</td>\n",
       "      <td>0.002018</td>\n",
       "      <td>-0.001601</td>\n",
       "      <td>0.011230</td>\n",
       "    </tr>\n",
       "    <tr>\n",
       "      <th>2007-04-16</th>\n",
       "      <td>0.009452</td>\n",
       "      <td>0.009140</td>\n",
       "      <td>0.000935</td>\n",
       "      <td>0.001254</td>\n",
       "    </tr>\n",
       "    <tr>\n",
       "      <th>2007-04-17</th>\n",
       "      <td>0.002655</td>\n",
       "      <td>0.002217</td>\n",
       "      <td>0.002530</td>\n",
       "      <td>0.012948</td>\n",
       "    </tr>\n",
       "    <tr>\n",
       "      <th>...</th>\n",
       "      <td>...</td>\n",
       "      <td>...</td>\n",
       "      <td>...</td>\n",
       "      <td>...</td>\n",
       "    </tr>\n",
       "    <tr>\n",
       "      <th>2024-01-22</th>\n",
       "      <td>0.002112</td>\n",
       "      <td>0.001305</td>\n",
       "      <td>0.001650</td>\n",
       "      <td>0.005954</td>\n",
       "    </tr>\n",
       "    <tr>\n",
       "      <th>2024-01-23</th>\n",
       "      <td>0.002912</td>\n",
       "      <td>0.004141</td>\n",
       "      <td>-0.002338</td>\n",
       "      <td>-0.006891</td>\n",
       "    </tr>\n",
       "    <tr>\n",
       "      <th>2024-01-24</th>\n",
       "      <td>0.001093</td>\n",
       "      <td>0.005534</td>\n",
       "      <td>-0.002068</td>\n",
       "      <td>-0.014402</td>\n",
       "    </tr>\n",
       "    <tr>\n",
       "      <th>2024-01-25</th>\n",
       "      <td>0.005424</td>\n",
       "      <td>0.001220</td>\n",
       "      <td>0.004681</td>\n",
       "      <td>0.012760</td>\n",
       "    </tr>\n",
       "    <tr>\n",
       "      <th>2024-01-26</th>\n",
       "      <td>-0.001271</td>\n",
       "      <td>-0.005975</td>\n",
       "      <td>-0.001512</td>\n",
       "      <td>-0.002822</td>\n",
       "    </tr>\n",
       "  </tbody>\n",
       "</table>\n",
       "<p>4229 rows × 4 columns</p>\n",
       "</div>"
      ],
      "text/plain": [
       "Price      Adj Close                              \n",
       "Ticker           SPY       QQQ       BND       VNQ\n",
       "Date                                              \n",
       "2007-04-11 -0.004088 -0.010575 -0.002663 -0.015010\n",
       "2007-04-12  0.004434  0.007886 -0.000133 -0.006829\n",
       "2007-04-13  0.004552  0.002018 -0.001601  0.011230\n",
       "2007-04-16  0.009452  0.009140  0.000935  0.001254\n",
       "2007-04-17  0.002655  0.002217  0.002530  0.012948\n",
       "...              ...       ...       ...       ...\n",
       "2024-01-22  0.002112  0.001305  0.001650  0.005954\n",
       "2024-01-23  0.002912  0.004141 -0.002338 -0.006891\n",
       "2024-01-24  0.001093  0.005534 -0.002068 -0.014402\n",
       "2024-01-25  0.005424  0.001220  0.004681  0.012760\n",
       "2024-01-26 -0.001271 -0.005975 -0.001512 -0.002822\n",
       "\n",
       "[4229 rows x 4 columns]"
      ]
     },
     "execution_count": 16,
     "metadata": {},
     "output_type": "execute_result"
    }
   ],
   "source": [
    "df"
   ]
  },
  {
   "cell_type": "code",
   "execution_count": null,
   "metadata": {},
   "outputs": [],
   "source": []
  }
 ],
 "metadata": {
  "kernelspec": {
   "display_name": "Python 3 (ipykernel)",
   "language": "python",
   "name": "python3"
  },
  "language_info": {
   "codemirror_mode": {
    "name": "ipython",
    "version": 3
   },
   "file_extension": ".py",
   "mimetype": "text/x-python",
   "name": "python",
   "nbconvert_exporter": "python",
   "pygments_lexer": "ipython3",
   "version": "3.9.13"
  },
  "pycharm": {
   "stem_cell": {
    "cell_type": "raw",
    "metadata": {
     "collapsed": false
    },
    "source": []
   }
  }
 },
 "nbformat": 4,
 "nbformat_minor": 2
}
